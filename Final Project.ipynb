{
 "cells": [
  {
   "cell_type": "markdown",
   "metadata": {},
   "source": [
    "# Default Final Project\n",
    "\n",
    "Author: Haojun Li\n",
    "\n",
    "The structure of the project will be divided up into 3 categories:\n",
    "1. EDA to learn interesting structures about the data\n",
    "2. Defining environments and how to interact with the environment\n",
    "3. Defining policy evaluation methods\n",
    "4. Defining baselines\n",
    "5. Defining Contextual UBC\n",
    "6. Defining Supervised methods (SVM! Neural networks)\n",
    "\n",
    "## EDA\n",
    "\n",
    "Here we will fist run some exploratory analysis on the data"
   ]
  },
  {
   "cell_type": "code",
   "execution_count": 96,
   "metadata": {},
   "outputs": [],
   "source": [
    "import csv\n",
    "import numpy as np\n",
    "import pandas as pd\n",
    "import matplotlib.pyplot as plt\n",
    "import sklearn\n",
    "import math\n",
    "import scipy\n",
    "import scipy.stats as st\n",
    "from multiprocessing import Pool\n",
    "from tqdm import tqdm, trange"
   ]
  },
  {
   "cell_type": "code",
   "execution_count": 2,
   "metadata": {},
   "outputs": [],
   "source": [
    "df = pd.read_csv('data/warfarin.csv', dtype=str)\n",
    "df = df.iloc[:5700, :63]\n",
    "df = df[~df['Therapeutic Dose of Warfarin'].isna()]\n",
    "df['Height (cm)'] = df['Height (cm)'].astype(float)\n",
    "df['Height (cm)'] = df['Height (cm)'].fillna(df['Height (cm)'].mean())\n",
    "df['Weight (kg)'] = df['Weight (kg)'].astype(float)\n",
    "df['Weight (kg)'] = df['Weight (kg)'].fillna(df['Weight (kg)'].mean())\n",
    "for column in df.columns:\n",
    "    if column not in ['Height (cm)', 'Weight (kg)']:\n",
    "        df[column] = df[column].fillna('Unknown')\n",
    "df['Therapeutic Dose of Warfarin'] = df['Therapeutic Dose of Warfarin'].astype(float)\n",
    "df['Therapeutic Dose of Warfarin (categorized)'] = pd.cut(df['Therapeutic Dose of Warfarin'], \n",
    "    [0, 20.99999, 49, max(df['Therapeutic Dose of Warfarin'])],\n",
    "    labels=['low', 'medium', 'high'])\n",
    "df = df.drop(columns=['INR on Reported Therapeutic Dose of Warfarin', 'Subject Reached Stable Dose of Warfarin'])"
   ]
  },
  {
   "cell_type": "code",
   "execution_count": 3,
   "metadata": {},
   "outputs": [],
   "source": [
    "df['Age decades'] = 0\n",
    "for cat in df['Age'].unique():\n",
    "    decade = 0\n",
    "    if cat == '10 - 19':\n",
    "        decade = 1\n",
    "    elif cat == '20 - 29':\n",
    "        decade = 2\n",
    "    elif cat == '30 - 39':\n",
    "        decade = 3\n",
    "    elif cat == '40 - 49':\n",
    "        decade = 4\n",
    "    elif cat == '50 - 59':\n",
    "        decade = 5\n",
    "    elif cat == '60 - 69':\n",
    "        decade = 6\n",
    "    elif cat == '70 - 79':\n",
    "        decade = 7\n",
    "    elif cat == '80 - 89':\n",
    "        decade = 8\n",
    "    elif cat == '90+':\n",
    "        decade = 9\n",
    "    else:\n",
    "        continue\n",
    "    df.loc[df['Age'] == cat, 'Age decades'] = decade\n",
    "df.loc[df['Age'].isna(), 'Age decades'] = 7 # this is the mode imputed"
   ]
  },
  {
   "cell_type": "code",
   "execution_count": 216,
   "metadata": {},
   "outputs": [
    {
     "data": {
      "image/png": "[encoded data removed]",
      "text/plain": [
       "<Figure size 432x432 with 1 Axes>"
      ]
     },
     "metadata": {
      "needs_background": "light"
     },
     "output_type": "display_data"
    }
   ],
   "source": [
    "plt.figure(figsize=(6, 6))\n",
    "means = df.groupby('Age').mean()['Therapeutic Dose of Warfarin']\n",
    "x = list(means.index) + ['Unknown Age']\n",
    "y = list(means.values.flatten()) + [df[df['Age'].isna()]['Therapeutic Dose of Warfarin'].mean()]\n",
    "plt.bar(x, y)\n",
    "plt.title('Average Theraputic Dose of Warfarin by Age')\n",
    "plt.xlabel('Age group')\n",
    "plt.ylabel('Average Theraputic Dose of Warfarin')\n",
    "plt.xticks(rotation=90)\n",
    "plt.savefig('plots/dose_vs_age_group.png')"
   ]
  },
  {
   "cell_type": "markdown",
   "metadata": {},
   "source": [
    "## Define features and Encoding\n",
    "\n",
    "Here we select the features that we want and define a way of encoding them. These will be used throught the rest of the notebook"
   ]
  },
  {
   "cell_type": "code",
   "execution_count": 5,
   "metadata": {},
   "outputs": [],
   "source": [
    "uniques = {column : list(df[column].unique()) for column in df.columns}\n",
    "def encode(state, lst_features):\n",
    "    state = state[lst_features]\n",
    "    vec = []\n",
    "    for index in state.index:\n",
    "        if index in ['Height (cm)', 'Weight (kg)', 'Age decades']:\n",
    "            vec += [state[index]]\n",
    "        else:\n",
    "            possible_values = uniques[index]\n",
    "            vec += [1 if possible_value == state[index] else 0 for possible_value in possible_values]\n",
    "    return vec"
   ]
  },
  {
   "cell_type": "code",
   "execution_count": 6,
   "metadata": {},
   "outputs": [],
   "source": [
    "# df.columns"
   ]
  },
  {
   "cell_type": "code",
   "execution_count": 7,
   "metadata": {
    "scrolled": true
   },
   "outputs": [
    {
     "data": {
      "text/plain": [
       "19"
      ]
     },
     "execution_count": 7,
     "metadata": {},
     "output_type": "execute_result"
    }
   ],
   "source": [
    "len(encode(df.iloc[0], ['Race', 'Age decades',\n",
    "            'Height (cm)', 'Weight (kg)', 'Carbamazepine (Tegretol)', \n",
    "            'Amiodarone (Cordarone)','Phenytoin (Dilantin)', 'Rifampin or Rifampicin']))"
   ]
  },
  {
   "cell_type": "code",
   "execution_count": 8,
   "metadata": {},
   "outputs": [
    {
     "data": {
      "text/plain": [
       "152"
      ]
     },
     "execution_count": 8,
     "metadata": {},
     "output_type": "execute_result"
    }
   ],
   "source": [
    "len(encode(df.iloc[0], ['Gender', 'Race', 'Ethnicity', 'Age decades',\n",
    "        'Height (cm)', 'Weight (kg)', 'Indication for Warfarin Treatment', 'Diabetes',\n",
    "        'Congestive Heart Failure and/or Cardiomyopathy', 'Valve Replacement',\n",
    "        'Aspirin', 'Acetaminophen or Paracetamol (Tylenol)',\n",
    "        'Was Dose of Acetaminophen or Paracetamol (Tylenol) >1300mg/day',\n",
    "        'Simvastatin (Zocor)', 'Atorvastatin (Lipitor)', 'Fluvastatin (Lescol)',\n",
    "        'Lovastatin (Mevacor)', 'Pravastatin (Pravachol)',\n",
    "        'Rosuvastatin (Crestor)', 'Cerivastatin (Baycol)',\n",
    "        'Amiodarone (Cordarone)', 'Carbamazepine (Tegretol)',\n",
    "        'Phenytoin (Dilantin)', 'Rifampin or Rifampicin',\n",
    "        'Sulfonamide Antibiotics', 'Macrolide Antibiotics',\n",
    "        'Anti-fungal Azoles', 'Herbal Medications, Vitamins, Supplements',\n",
    "        'Target INR', 'Estimated Target INR Range Based on Indication', 'Current Smoker',]))"
   ]
  },
  {
   "cell_type": "markdown",
   "metadata": {},
   "source": [
    "## Calculate true parameters\n",
    "\n",
    "To find the \"gold\" parameters for each arm, since we constructed the problem as linear bandits, we will find the \"gold\" parameters as a linear regression on predicting the reward (0 for correct dosage, -1 for wrong dosage). We will find a beta for each arm independently."
   ]
  },
  {
   "cell_type": "code",
   "execution_count": 9,
   "metadata": {},
   "outputs": [],
   "source": [
    "feature_names = ['Race', 'Age decades',\n",
    "            'Height (cm)', 'Weight (kg)', 'Carbamazepine (Tegretol)', \n",
    "            'Amiodarone (Cordarone)','Phenytoin (Dilantin)', 'Rifampin or Rifampicin']\n",
    "# feature_names = ['Gender', 'Race', 'Ethnicity', 'Age decades',\n",
    "#         'Height (cm)', 'Weight (kg)', 'Indication for Warfarin Treatment', 'Diabetes',\n",
    "#         'Congestive Heart Failure and/or Cardiomyopathy', 'Valve Replacement',\n",
    "#         'Aspirin', 'Acetaminophen or Paracetamol (Tylenol)',\n",
    "#         'Was Dose of Acetaminophen or Paracetamol (Tylenol) >1300mg/day',\n",
    "#         'Simvastatin (Zocor)', 'Atorvastatin (Lipitor)', 'Fluvastatin (Lescol)',\n",
    "#         'Lovastatin (Mevacor)', 'Pravastatin (Pravachol)',\n",
    "#         'Rosuvastatin (Crestor)', 'Cerivastatin (Baycol)',\n",
    "#         'Amiodarone (Cordarone)', 'Carbamazepine (Tegretol)',\n",
    "#         'Phenytoin (Dilantin)', 'Rifampin or Rifampicin',\n",
    "#         'Sulfonamide Antibiotics', 'Macrolide Antibiotics',\n",
    "#         'Anti-fungal Azoles', 'Herbal Medications, Vitamins, Supplements',\n",
    "#         'Target INR', 'Estimated Target INR Range Based on Indication', 'Current Smoker']\n",
    "X = df.apply(lambda row: encode(row, feature_names), 1, True)\n",
    "X = np.array(X.to_list())\n",
    "y_low = (df['Therapeutic Dose of Warfarin (categorized)'] == 'low').to_numpy() - 1\n",
    "y_medium = (df['Therapeutic Dose of Warfarin (categorized)'] == 'medium').to_numpy() - 1\n",
    "y_high = (df['Therapeutic Dose of Warfarin (categorized)'] == 'high').to_numpy() - 1"
   ]
  },
  {
   "cell_type": "code",
   "execution_count": 10,
   "metadata": {},
   "outputs": [],
   "source": [
    "from sklearn.linear_model import LinearRegression\n",
    "linear_low = LinearRegression(fit_intercept=False).fit(X, y_low)\n",
    "linear_medium = LinearRegression(fit_intercept=False).fit(X, y_medium)\n",
    "linear_high = LinearRegression(fit_intercept=False).fit(X, y_high)"
   ]
  },
  {
   "cell_type": "code",
   "execution_count": 11,
   "metadata": {},
   "outputs": [
    {
     "name": "stdout",
     "output_type": "stream",
     "text": [
      "low MSE is 0.16698271278610421, medium MSE is 0.2317222747466462, high MSE is 0.08958474712162273\n"
     ]
    }
   ],
   "source": [
    "low_mse = np.mean(np.power(X.dot(linear_low.coef_.T) - y_low, 2))\n",
    "medium_mse = np.mean(np.power(X.dot(linear_medium.coef_.T) - y_medium, 2))\n",
    "high_mse = np.mean(np.power(X.dot(linear_high.coef_.T) - y_high, 2))\n",
    "print(f'low MSE is {low_mse}, medium MSE is {medium_mse}, high MSE is {high_mse}')"
   ]
  },
  {
   "cell_type": "markdown",
   "metadata": {},
   "source": [
    "## Regret\n",
    "\n",
    "Here we calculate regret. Since regret is independent on the policy used, we can find the total emparical regret using the \"gold\" betas we found above as well as the true and predicted arm for each round."
   ]
  },
  {
   "cell_type": "code",
   "execution_count": 14,
   "metadata": {},
   "outputs": [
    {
     "name": "stdout",
     "output_type": "stream",
     "text": [
      "0.44495939102318893\n",
      "[0.44495939 0.2854361  0.47281279]\n"
     ]
    }
   ],
   "source": [
    "def get_coef(action, low_beta, medium_beta, high_beta):\n",
    "    if action == 'low':\n",
    "        return low_beta\n",
    "    if action == 'medium':\n",
    "        return medium_beta\n",
    "    if action == 'high':\n",
    "        return high_beta\n",
    "\n",
    "def regret(state, action, low_beta, medium_beta, high_beta):\n",
    "    x = np.array(encode(state, feature_names)).reshape(1, -1)\n",
    "    best_linear_reward = np.max([x.dot(beta.T)[0] for beta in [low_beta, medium_beta, high_beta]])\n",
    "    coef = get_coef(action, low_beta, medium_beta, high_beta)\n",
    "    regret = best_linear_reward - x.dot(coef.T)\n",
    "    return regret[0]\n",
    "\n",
    "print(regret(df.iloc[0], 'high', linear_low.coef_, linear_medium.coef_, linear_high.coef_))\n",
    "\n",
    "def batch_regret(states, actions, low_beta, medium_beta, high_beta):\n",
    "    all_actions = ['low', 'medium', 'high']\n",
    "    X = states.apply(lambda row: encode(row, feature_names), 1, True)\n",
    "    X = np.array(X.to_list())\n",
    "    betas = np.hstack([low_beta.reshape(-1, 1), medium_beta.reshape(-1, 1), high_beta.reshape(-1, 1)])\n",
    "    linear_rewards = X.dot(betas)\n",
    "    actions_numeric = [all_actions.index(action) for _, action in enumerate(actions)]\n",
    "    regrets = np.max(linear_rewards, 1) - linear_rewards[list(range(linear_rewards.shape[0])), actions_numeric]\n",
    "    return regrets\n",
    "\n",
    "print(batch_regret(df.iloc[0:3], ['high', 'high', 'high'], \n",
    "                   linear_low.coef_, linear_medium.coef_, linear_high.coef_ ))"
   ]
  },
  {
   "cell_type": "code",
   "execution_count": 15,
   "metadata": {},
   "outputs": [],
   "source": [
    "def simulate(df, policy, linear_low=linear_low, linear_medium=linear_medium, linear_high=linear_high, bar=True):\n",
    "    permuted_df = df.sample(frac=1)\n",
    "    states = permuted_df.drop(columns=['PharmGKB Subject ID', 'Therapeutic Dose of Warfarin', 'Therapeutic Dose of Warfarin (categorized)'])\n",
    "    labels = permuted_df['Therapeutic Dose of Warfarin (categorized)']\n",
    "    total_reward = 0\n",
    "    actions = []\n",
    "    rewards = []\n",
    "    if bar:\n",
    "        t = trange(len(states.index))\n",
    "    else:\n",
    "        t = range(len(states.index))\n",
    "    for i in t:\n",
    "        state = states.iloc[i]\n",
    "        label = labels.iloc[i]\n",
    "        action = policy.get_action(state)\n",
    "        reward = 0 if action == label else -1\n",
    "        policy.update_policy(state, action, reward, label)\n",
    "        total_reward += reward\n",
    "        actions += [action]\n",
    "        rewards += [reward]\n",
    "        if bar:\n",
    "            t.set_postfix(total_reward = total_reward)\n",
    "    regrets = batch_regret(states, actions, linear_low.coef_, linear_medium.coef_, linear_high.coef_)\n",
    "    return actions, rewards, regrets"
   ]
  },
  {
   "cell_type": "code",
   "execution_count": 16,
   "metadata": {},
   "outputs": [
    {
     "name": "stderr",
     "output_type": "stream",
     "text": [
      "100%|██████████| 5528/5528 [00:08<00:00, 650.32it/s, total_reward=-2146]\n"
     ]
    }
   ],
   "source": [
    "fixed_actions, fixed_rewards, fixed_regret = simulate(df, FixedDosePolicy('medium'))"
   ]
  },
  {
   "cell_type": "code",
   "execution_count": 17,
   "metadata": {},
   "outputs": [
    {
     "name": "stderr",
     "output_type": "stream",
     "text": [
      "100%|██████████| 5528/5528 [00:09<00:00, 599.58it/s, total_reward=-1975]\n"
     ]
    }
   ],
   "source": [
    "clinical_actions, clinical_rewards, clinical_regret = simulate(df, ClinicalDosingAlgorithm())"
   ]
  },
  {
   "cell_type": "code",
   "execution_count": 18,
   "metadata": {},
   "outputs": [
    {
     "data": {
      "text/plain": [
       "61.532225965119686"
      ]
     },
     "execution_count": 18,
     "metadata": {},
     "output_type": "execute_result"
    }
   ],
   "source": [
    "fixed_regret.sum()"
   ]
  },
  {
   "cell_type": "code",
   "execution_count": 82,
   "metadata": {},
   "outputs": [
    {
     "data": {
      "text/plain": [
       "54.227495125882854"
      ]
     },
     "execution_count": 82,
     "metadata": {},
     "output_type": "execute_result"
    }
   ],
   "source": [
    "clinical_regret.sum()"
   ]
  },
  {
   "cell_type": "code",
   "execution_count": 83,
   "metadata": {},
   "outputs": [
    {
     "data": {
      "text/plain": [
       "5528"
      ]
     },
     "execution_count": 83,
     "metadata": {},
     "output_type": "execute_result"
    }
   ],
   "source": [
    "len(clinical_regret)"
   ]
  },
  {
   "cell_type": "markdown",
   "metadata": {},
   "source": [
    "## Baselines\n",
    "\n",
    "Here we define the baselines"
   ]
  },
  {
   "cell_type": "code",
   "execution_count": 68,
   "metadata": {},
   "outputs": [
    {
     "name": "stderr",
     "output_type": "stream",
     "text": [
      "100%|██████████| 5528/5528 [00:06<00:00, 843.80it/s, total_reward=-2146]\n"
     ]
    }
   ],
   "source": [
    "class FixedDosePolicy(object):\n",
    "    \n",
    "    def __init__(self, dose):\n",
    "        self.dose = dose\n",
    "        \n",
    "    def get_action(self, state):\n",
    "        return self.dose\n",
    "    \n",
    "    def update_policy(self, state, action, reward, true_label):\n",
    "        return\n",
    "\n",
    "fixed_actions, fixed_rewards, fixed_regrets = simulate(df, FixedDosePolicy('medium'))"
   ]
  },
  {
   "cell_type": "code",
   "execution_count": 69,
   "metadata": {},
   "outputs": [
    {
     "data": {
      "text/plain": [
       "61.53222596511968"
      ]
     },
     "execution_count": 69,
     "metadata": {},
     "output_type": "execute_result"
    }
   ],
   "source": [
    "sum(fixed_regrets)"
   ]
  },
  {
   "cell_type": "code",
   "execution_count": 151,
   "metadata": {},
   "outputs": [
    {
     "data": {
      "text/plain": [
       "0.388205499276411"
      ]
     },
     "execution_count": 151,
     "metadata": {},
     "output_type": "execute_result"
    }
   ],
   "source": [
    "-np.mean(fixed_rewards)"
   ]
  },
  {
   "cell_type": "code",
   "execution_count": 149,
   "metadata": {},
   "outputs": [
    {
     "name": "stderr",
     "output_type": "stream",
     "text": [
      "100%|██████████| 5528/5528 [00:08<00:00, 641.31it/s, total_reward=-1975]\n"
     ]
    }
   ],
   "source": [
    "class ClinicalDosingAlgorithm(object):\n",
    "    \n",
    "    def get_action(self, state):\n",
    "        dose = 4.0376\n",
    "        dose += - 0.2546 * state['Age decades']\n",
    "        dose += 0.0118 * state['Height (cm)']\n",
    "        dose += 0.0134 * state['Weight (kg)']\n",
    "        if state['Race'] == 'Asian':\n",
    "            dose += - 0.6752\n",
    "        if state['Race'] == 'Black or African American':\n",
    "            dose += 0.4060\n",
    "        if state['Race'] == 'Unknown':\n",
    "            dose += 0.0443\n",
    "        if state['Carbamazepine (Tegretol)'] == '1' or state['Phenytoin (Dilantin)'] == '1'\\\n",
    "                or state['Rifampin or Rifampicin'] == '1':\n",
    "            dose += 1.2799\n",
    "        if state['Amiodarone (Cordarone)'] == '1':\n",
    "            dose += -0.5695\n",
    "        dose = dose ** 2\n",
    "        if dose < 21:\n",
    "            return 'low'\n",
    "        if dose < 49:\n",
    "            return 'medium'\n",
    "        return 'high'\n",
    "    \n",
    "    def update_policy(self, state, action, reward, true_label):\n",
    "        return\n",
    "clinical_actions, clinical_rewards, clinical_regrets = simulate(df, ClinicalDosingAlgorithm())"
   ]
  },
  {
   "cell_type": "code",
   "execution_count": 152,
   "metadata": {},
   "outputs": [
    {
     "data": {
      "text/plain": [
       "54.227495125882854"
      ]
     },
     "execution_count": 152,
     "metadata": {},
     "output_type": "execute_result"
    }
   ],
   "source": [
    "np.sum(clinical_regrets)"
   ]
  },
  {
   "cell_type": "code",
   "execution_count": 153,
   "metadata": {},
   "outputs": [
    {
     "data": {
      "text/plain": [
       "0.35727206946454415"
      ]
     },
     "execution_count": 153,
     "metadata": {},
     "output_type": "execute_result"
    }
   ],
   "source": [
    "-np.mean(clinical_rewards)"
   ]
  },
  {
   "cell_type": "markdown",
   "metadata": {},
   "source": [
    "## Defining Linear UCB Policy\n",
    "\n",
    "Here we will use Disjoint Liner UCB since the assumption for it is quite nice. There is no additional context per action, but rather we have the exact same context for each arm (namely the patient features). "
   ]
  },
  {
   "cell_type": "code",
   "execution_count": 19,
   "metadata": {},
   "outputs": [
    {
     "name": "stderr",
     "output_type": "stream",
     "text": [
      "100%|██████████| 5528/5528 [00:21<00:00, 259.48it/s, total_reward=-2035]\n"
     ]
    }
   ],
   "source": [
    "class LinUCBDisjoint(object):\n",
    "    \n",
    "    def __init__(self, alpha, feature_names, actions, d):\n",
    "        self.alpha = alpha\n",
    "        self.feature_names = feature_names\n",
    "        self.actions = actions\n",
    "        self.As = [np.eye(d) for _ in range(len(actions))]\n",
    "        self.bs = [np.zeros((d, 1)) for _ in range(len(actions))]\n",
    "        \n",
    "    def featurize(self, state):\n",
    "        return np.array(encode(state, self.feature_names)).reshape(-1, 1)\n",
    "        \n",
    "    def get_action(self, state):\n",
    "        ps = []\n",
    "        x = self.featurize(state)\n",
    "        for a in range(3):\n",
    "            A_inv = np.linalg.inv(self.As[a])\n",
    "            theta = A_inv.dot(self.bs[a])\n",
    "            ps += [x.T.dot(theta)[0, 0] + self.alpha * np.sqrt(x.T.dot(A_inv).dot(x))[0, 0]]\n",
    "        a_t = np.argmax(ps)\n",
    "        return self.actions[a_t]\n",
    "    \n",
    "    def update_policy(self, state, action, reward, true_label):\n",
    "        x = self.featurize(state)\n",
    "        self.As[self.actions.index(action)] += x.dot(x.T)\n",
    "        self.bs[self.actions.index(action)] += reward * x\n",
    "\n",
    "policy = LinUCBDisjoint(np.sqrt(np.log(2 / 0.1)/2), \n",
    "                        feature_names, ['low', 'medium', 'high'], len(encode(df.iloc[0], feature_names)))\n",
    "rl_actions, rl_rewards, rl_regret = simulate(df, policy)"
   ]
  },
  {
   "cell_type": "code",
   "execution_count": 20,
   "metadata": {
    "scrolled": true
   },
   "outputs": [
    {
     "name": "stdout",
     "output_type": "stream",
     "text": [
      "disjoint linear UCB is able to achieve 81.1333582749707 regret\n"
     ]
    }
   ],
   "source": [
    "print(f'disjoint linear UCB is able to achieve {rl_regret.sum()} regret')"
   ]
  },
  {
   "cell_type": "markdown",
   "metadata": {},
   "source": [
    "## Hyperparameter search\n"
   ]
  },
  {
   "cell_type": "code",
   "execution_count": 63,
   "metadata": {
    "scrolled": true
   },
   "outputs": [
    {
     "name": "stdout",
     "output_type": "stream",
     "text": [
      "running experiment for 0.0 iteration 0\n",
      "running experiment for 0.0 iteration 1\n",
      "running experiment for 0.0 iteration 2\n",
      "running experiment for 0.0 iteration 3\n",
      "running experiment for 0.0 iteration 4\n",
      "running experiment for 0.0 iteration 5\n",
      "running experiment for 0.0 iteration 6\n",
      "running experiment for 0.0 iteration 7\n",
      "running experiment for 0.0 iteration 8\n",
      "running experiment for 0.0 iteration 9\n",
      "running experiment for 0.0 iteration 10\n",
      "running experiment for 0.0 iteration 11\n",
      "running experiment for 0.0 iteration 12\n",
      "running experiment for 0.0 iteration 13\n",
      "running experiment for 0.0 iteration 14\n",
      "running experiment for 0.0 iteration 15\n",
      "running experiment for 0.0 iteration 16\n",
      "running experiment for 0.0 iteration 17\n",
      "running experiment for 0.0 iteration 18\n",
      "running experiment for 0.0 iteration 19\n",
      "running experiment for 0.30596835383510207 iteration 0\n",
      "running experiment for 0.30596835383510207 iteration 1\n",
      "running experiment for 0.30596835383510207 iteration 2\n",
      "running experiment for 0.30596835383510207 iteration 3\n",
      "running experiment for 0.30596835383510207 iteration 4\n",
      "running experiment for 0.30596835383510207 iteration 5\n",
      "running experiment for 0.30596835383510207 iteration 6\n",
      "running experiment for 0.30596835383510207 iteration 7\n",
      "running experiment for 0.30596835383510207 iteration 8\n",
      "running experiment for 0.30596835383510207 iteration 9\n",
      "running experiment for 0.30596835383510207 iteration 10\n",
      "running experiment for 0.30596835383510207 iteration 11\n",
      "running experiment for 0.30596835383510207 iteration 12\n",
      "running experiment for 0.30596835383510207 iteration 13\n",
      "running experiment for 0.30596835383510207 iteration 14\n",
      "running experiment for 0.30596835383510207 iteration 15\n",
      "running experiment for 0.30596835383510207 iteration 16\n",
      "running experiment for 0.30596835383510207 iteration 17\n",
      "running experiment for 0.30596835383510207 iteration 18\n",
      "running experiment for 0.30596835383510207 iteration 19\n",
      "running experiment for 0.6119367076702041 iteration 0\n",
      "running experiment for 0.6119367076702041 iteration 1\n",
      "running experiment for 0.6119367076702041 iteration 2\n",
      "running experiment for 0.6119367076702041 iteration 3\n",
      "running experiment for 0.6119367076702041 iteration 4\n",
      "running experiment for 0.6119367076702041 iteration 5\n",
      "running experiment for 0.6119367076702041 iteration 6\n",
      "running experiment for 0.6119367076702041 iteration 7\n",
      "running experiment for 0.6119367076702041 iteration 8\n",
      "running experiment for 0.6119367076702041 iteration 9\n",
      "running experiment for 0.6119367076702041 iteration 10\n",
      "running experiment for 0.6119367076702041 iteration 11\n",
      "running experiment for 0.6119367076702041 iteration 12\n",
      "running experiment for 0.6119367076702041 iteration 13\n",
      "running experiment for 0.6119367076702041 iteration 14\n",
      "running experiment for 0.6119367076702041 iteration 15\n",
      "running experiment for 0.6119367076702041 iteration 16\n",
      "running experiment for 0.6119367076702041 iteration 17\n",
      "running experiment for 0.6119367076702041 iteration 18\n",
      "running experiment for 0.6119367076702041 iteration 19\n",
      "running experiment for 0.9179050615053062 iteration 0\n",
      "running experiment for 0.9179050615053062 iteration 1\n",
      "running experiment for 0.9179050615053062 iteration 2\n",
      "running experiment for 0.9179050615053062 iteration 3\n",
      "running experiment for 0.9179050615053062 iteration 4\n",
      "running experiment for 0.9179050615053062 iteration 5\n",
      "running experiment for 0.9179050615053062 iteration 6\n",
      "running experiment for 0.9179050615053062 iteration 7\n",
      "running experiment for 0.9179050615053062 iteration 8\n",
      "running experiment for 0.9179050615053062 iteration 9\n",
      "running experiment for 0.9179050615053062 iteration 10\n",
      "running experiment for 0.9179050615053062 iteration 11\n",
      "running experiment for 0.9179050615053062 iteration 12\n",
      "running experiment for 0.9179050615053062 iteration 13\n",
      "running experiment for 0.9179050615053062 iteration 14\n",
      "running experiment for 0.9179050615053062 iteration 15\n",
      "running experiment for 0.9179050615053062 iteration 16\n",
      "running experiment for 0.9179050615053062 iteration 17\n",
      "running experiment for 0.9179050615053062 iteration 18\n",
      "running experiment for 0.9179050615053062 iteration 19\n",
      "running experiment for 1.2238734153404083 iteration 0\n",
      "running experiment for 1.2238734153404083 iteration 1\n",
      "running experiment for 1.2238734153404083 iteration 2\n",
      "running experiment for 1.2238734153404083 iteration 3\n",
      "running experiment for 1.2238734153404083 iteration 4\n",
      "running experiment for 1.2238734153404083 iteration 5\n",
      "running experiment for 1.2238734153404083 iteration 6\n",
      "running experiment for 1.2238734153404083 iteration 7\n",
      "running experiment for 1.2238734153404083 iteration 8\n",
      "running experiment for 1.2238734153404083 iteration 9\n",
      "running experiment for 1.2238734153404083 iteration 10\n",
      "running experiment for 1.2238734153404083 iteration 11\n",
      "running experiment for 1.2238734153404083 iteration 12\n",
      "running experiment for 1.2238734153404083 iteration 13\n",
      "running experiment for 1.2238734153404083 iteration 14\n",
      "running experiment for 1.2238734153404083 iteration 15\n",
      "running experiment for 1.2238734153404083 iteration 16\n",
      "running experiment for 1.2238734153404083 iteration 17\n",
      "running experiment for 1.2238734153404083 iteration 18\n",
      "running experiment for 1.2238734153404083 iteration 19\n",
      "running experiment for 1.5298417691755104 iteration 0\n",
      "running experiment for 1.5298417691755104 iteration 1\n",
      "running experiment for 1.5298417691755104 iteration 2\n",
      "running experiment for 1.5298417691755104 iteration 3\n",
      "running experiment for 1.5298417691755104 iteration 4\n",
      "running experiment for 1.5298417691755104 iteration 5\n",
      "running experiment for 1.5298417691755104 iteration 6\n",
      "running experiment for 1.5298417691755104 iteration 7\n",
      "running experiment for 1.5298417691755104 iteration 8\n",
      "running experiment for 1.5298417691755104 iteration 9\n",
      "running experiment for 1.5298417691755104 iteration 10\n",
      "running experiment for 1.5298417691755104 iteration 11\n",
      "running experiment for 1.5298417691755104 iteration 12\n",
      "running experiment for 1.5298417691755104 iteration 13\n",
      "running experiment for 1.5298417691755104 iteration 14\n",
      "running experiment for 1.5298417691755104 iteration 15\n",
      "running experiment for 1.5298417691755104 iteration 16\n",
      "running experiment for 1.5298417691755104 iteration 17\n",
      "running experiment for 1.5298417691755104 iteration 18\n",
      "running experiment for 1.5298417691755104 iteration 19\n",
      "running experiment for 1.8358101230106123 iteration 0\n",
      "running experiment for 1.8358101230106123 iteration 1\n",
      "running experiment for 1.8358101230106123 iteration 2\n",
      "running experiment for 1.8358101230106123 iteration 3\n",
      "running experiment for 1.8358101230106123 iteration 4\n",
      "running experiment for 1.8358101230106123 iteration 5\n",
      "running experiment for 1.8358101230106123 iteration 6\n",
      "running experiment for 1.8358101230106123 iteration 7\n",
      "running experiment for 1.8358101230106123 iteration 8\n",
      "running experiment for 1.8358101230106123 iteration 9\n",
      "running experiment for 1.8358101230106123 iteration 10\n",
      "running experiment for 1.8358101230106123 iteration 11\n",
      "running experiment for 1.8358101230106123 iteration 12\n",
      "running experiment for 1.8358101230106123 iteration 13\n",
      "running experiment for 1.8358101230106123 iteration 14\n",
      "running experiment for 1.8358101230106123 iteration 15\n",
      "running experiment for 1.8358101230106123 iteration 16\n",
      "running experiment for 1.8358101230106123 iteration 17\n",
      "running experiment for 1.8358101230106123 iteration 18\n",
      "running experiment for 1.8358101230106123 iteration 19\n",
      "running experiment for 2.1417784768457144 iteration 0\n",
      "running experiment for 2.1417784768457144 iteration 1\n",
      "running experiment for 2.1417784768457144 iteration 2\n",
      "running experiment for 2.1417784768457144 iteration 3\n",
      "running experiment for 2.1417784768457144 iteration 4\n",
      "running experiment for 2.1417784768457144 iteration 5\n",
      "running experiment for 2.1417784768457144 iteration 6\n",
      "running experiment for 2.1417784768457144 iteration 7\n",
      "running experiment for 2.1417784768457144 iteration 8\n",
      "running experiment for 2.1417784768457144 iteration 9\n",
      "running experiment for 2.1417784768457144 iteration 10\n",
      "running experiment for 2.1417784768457144 iteration 11\n",
      "running experiment for 2.1417784768457144 iteration 12\n",
      "running experiment for 2.1417784768457144 iteration 13\n",
      "running experiment for 2.1417784768457144 iteration 14\n",
      "running experiment for 2.1417784768457144 iteration 15\n"
     ]
    },
    {
     "name": "stdout",
     "output_type": "stream",
     "text": [
      "running experiment for 2.1417784768457144 iteration 16\n",
      "running experiment for 2.1417784768457144 iteration 17\n",
      "running experiment for 2.1417784768457144 iteration 18\n",
      "running experiment for 2.1417784768457144 iteration 19\n",
      "running experiment for 2.4477468306808166 iteration 0\n",
      "running experiment for 2.4477468306808166 iteration 1\n",
      "running experiment for 2.4477468306808166 iteration 2\n",
      "running experiment for 2.4477468306808166 iteration 3\n",
      "running experiment for 2.4477468306808166 iteration 4\n",
      "running experiment for 2.4477468306808166 iteration 5\n",
      "running experiment for 2.4477468306808166 iteration 6\n",
      "running experiment for 2.4477468306808166 iteration 7\n",
      "running experiment for 2.4477468306808166 iteration 8\n",
      "running experiment for 2.4477468306808166 iteration 9\n",
      "running experiment for 2.4477468306808166 iteration 10\n",
      "running experiment for 2.4477468306808166 iteration 11\n",
      "running experiment for 2.4477468306808166 iteration 12\n",
      "running experiment for 2.4477468306808166 iteration 13\n",
      "running experiment for 2.4477468306808166 iteration 14\n",
      "running experiment for 2.4477468306808166 iteration 15\n",
      "running experiment for 2.4477468306808166 iteration 16\n",
      "running experiment for 2.4477468306808166 iteration 17\n",
      "running experiment for 2.4477468306808166 iteration 18\n",
      "running experiment for 2.4477468306808166 iteration 19\n",
      "running experiment for 2.7537151845159187 iteration 0\n",
      "running experiment for 2.7537151845159187 iteration 1\n",
      "running experiment for 2.7537151845159187 iteration 2\n",
      "running experiment for 2.7537151845159187 iteration 3\n",
      "running experiment for 2.7537151845159187 iteration 4\n",
      "running experiment for 2.7537151845159187 iteration 5\n",
      "running experiment for 2.7537151845159187 iteration 6\n",
      "running experiment for 2.7537151845159187 iteration 7\n",
      "running experiment for 2.7537151845159187 iteration 8\n",
      "running experiment for 2.7537151845159187 iteration 9\n",
      "running experiment for 2.7537151845159187 iteration 10\n",
      "running experiment for 2.7537151845159187 iteration 11\n",
      "running experiment for 2.7537151845159187 iteration 12\n",
      "running experiment for 2.7537151845159187 iteration 13\n",
      "running experiment for 2.7537151845159187 iteration 14\n",
      "running experiment for 2.7537151845159187 iteration 15\n",
      "running experiment for 2.7537151845159187 iteration 16\n",
      "running experiment for 2.7537151845159187 iteration 17\n",
      "running experiment for 2.7537151845159187 iteration 18\n",
      "running experiment for 2.7537151845159187 iteration 19\n",
      "running experiment for 3.059683538351021 iteration 0\n",
      "running experiment for 3.059683538351021 iteration 1\n",
      "running experiment for 3.059683538351021 iteration 2\n",
      "running experiment for 3.059683538351021 iteration 3\n",
      "running experiment for 3.059683538351021 iteration 4\n",
      "running experiment for 3.059683538351021 iteration 5\n",
      "running experiment for 3.059683538351021 iteration 6\n",
      "running experiment for 3.059683538351021 iteration 7\n",
      "running experiment for 3.059683538351021 iteration 8\n",
      "running experiment for 3.059683538351021 iteration 9\n",
      "running experiment for 3.059683538351021 iteration 10\n",
      "running experiment for 3.059683538351021 iteration 11\n",
      "running experiment for 3.059683538351021 iteration 12\n",
      "running experiment for 3.059683538351021 iteration 13\n",
      "running experiment for 3.059683538351021 iteration 14\n",
      "running experiment for 3.059683538351021 iteration 15\n",
      "running experiment for 3.059683538351021 iteration 16\n",
      "running experiment for 3.059683538351021 iteration 17\n",
      "running experiment for 3.059683538351021 iteration 18\n",
      "running experiment for 3.059683538351021 iteration 19\n",
      "running experiment for 3.365651892186123 iteration 0\n",
      "running experiment for 3.365651892186123 iteration 1\n",
      "running experiment for 3.365651892186123 iteration 2\n",
      "running experiment for 3.365651892186123 iteration 3\n",
      "running experiment for 3.365651892186123 iteration 4\n",
      "running experiment for 3.365651892186123 iteration 5\n",
      "running experiment for 3.365651892186123 iteration 6\n",
      "running experiment for 3.365651892186123 iteration 7\n",
      "running experiment for 3.365651892186123 iteration 8\n",
      "running experiment for 3.365651892186123 iteration 9\n",
      "running experiment for 3.365651892186123 iteration 10\n",
      "running experiment for 3.365651892186123 iteration 11\n",
      "running experiment for 3.365651892186123 iteration 12\n",
      "running experiment for 3.365651892186123 iteration 13\n",
      "running experiment for 3.365651892186123 iteration 14\n",
      "running experiment for 3.365651892186123 iteration 15\n",
      "running experiment for 3.365651892186123 iteration 16\n",
      "running experiment for 3.365651892186123 iteration 17\n",
      "running experiment for 3.365651892186123 iteration 18\n",
      "running experiment for 3.365651892186123 iteration 19\n",
      "running experiment for 3.6716202460212246 iteration 0\n",
      "running experiment for 3.6716202460212246 iteration 1\n",
      "running experiment for 3.6716202460212246 iteration 2\n",
      "running experiment for 3.6716202460212246 iteration 3\n",
      "running experiment for 3.6716202460212246 iteration 4\n",
      "running experiment for 3.6716202460212246 iteration 5\n",
      "running experiment for 3.6716202460212246 iteration 6\n",
      "running experiment for 3.6716202460212246 iteration 7\n",
      "running experiment for 3.6716202460212246 iteration 8\n",
      "running experiment for 3.6716202460212246 iteration 9\n",
      "running experiment for 3.6716202460212246 iteration 10\n",
      "running experiment for 3.6716202460212246 iteration 11\n",
      "running experiment for 3.6716202460212246 iteration 12\n",
      "running experiment for 3.6716202460212246 iteration 13\n",
      "running experiment for 3.6716202460212246 iteration 14\n",
      "running experiment for 3.6716202460212246 iteration 15\n",
      "running experiment for 3.6716202460212246 iteration 16\n",
      "running experiment for 3.6716202460212246 iteration 17\n",
      "running experiment for 3.6716202460212246 iteration 18\n",
      "running experiment for 3.6716202460212246 iteration 19\n",
      "running experiment for 3.9775885998563267 iteration 0\n",
      "running experiment for 3.9775885998563267 iteration 1\n",
      "running experiment for 3.9775885998563267 iteration 2\n",
      "running experiment for 3.9775885998563267 iteration 3\n",
      "running experiment for 3.9775885998563267 iteration 4\n",
      "running experiment for 3.9775885998563267 iteration 5\n",
      "running experiment for 3.9775885998563267 iteration 6\n",
      "running experiment for 3.9775885998563267 iteration 7\n",
      "running experiment for 3.9775885998563267 iteration 8\n",
      "running experiment for 3.9775885998563267 iteration 9\n",
      "running experiment for 3.9775885998563267 iteration 10\n",
      "running experiment for 3.9775885998563267 iteration 11\n",
      "running experiment for 3.9775885998563267 iteration 12\n",
      "running experiment for 3.9775885998563267 iteration 13\n",
      "running experiment for 3.9775885998563267 iteration 14\n",
      "running experiment for 3.9775885998563267 iteration 15\n",
      "running experiment for 3.9775885998563267 iteration 16\n",
      "running experiment for 3.9775885998563267 iteration 17\n",
      "running experiment for 3.9775885998563267 iteration 18\n",
      "running experiment for 3.9775885998563267 iteration 19\n",
      "running experiment for 4.283556953691429 iteration 0\n",
      "running experiment for 4.283556953691429 iteration 1\n",
      "running experiment for 4.283556953691429 iteration 2\n",
      "running experiment for 4.283556953691429 iteration 3\n",
      "running experiment for 4.283556953691429 iteration 4\n",
      "running experiment for 4.283556953691429 iteration 5\n",
      "running experiment for 4.283556953691429 iteration 6\n",
      "running experiment for 4.283556953691429 iteration 7\n",
      "running experiment for 4.283556953691429 iteration 8\n",
      "running experiment for 4.283556953691429 iteration 9\n",
      "running experiment for 4.283556953691429 iteration 10\n",
      "running experiment for 4.283556953691429 iteration 11\n",
      "running experiment for 4.283556953691429 iteration 12\n",
      "running experiment for 4.283556953691429 iteration 13\n",
      "running experiment for 4.283556953691429 iteration 14\n",
      "running experiment for 4.283556953691429 iteration 15\n",
      "running experiment for 4.283556953691429 iteration 16\n",
      "running experiment for 4.283556953691429 iteration 17\n",
      "running experiment for 4.283556953691429 iteration 18\n",
      "running experiment for 4.283556953691429 iteration 19\n"
     ]
    }
   ],
   "source": [
    "alphas = [np.sqrt(np.log(2 / 0.1)/2) * i * 0.25 for i in range(15)]\n",
    "all_results = {}\n",
    "for alpha in alphas:\n",
    "    d = len(encode(df.iloc[0], feature_names))\n",
    "    results = []\n",
    "    for i in range(20):\n",
    "        print(f'running experiment for {alpha} iteration {i}')\n",
    "        policy = LinUCBDisjoint(alpha, feature_names, ['low', 'medium', 'high'], d)\n",
    "        results += [simulate(df, policy, bar=False)]\n",
    "    all_results[alpha] = results"
   ]
  },
  {
   "cell_type": "code",
   "execution_count": 79,
   "metadata": {},
   "outputs": [],
   "source": [
    "# import pickle\n",
    "# with open('all_results.pk', 'wb') as f:\n",
    "#     pickle.dump(all_results, f)"
   ]
  },
  {
   "cell_type": "code",
   "execution_count": 80,
   "metadata": {},
   "outputs": [],
   "source": [
    "import pickle\n",
    "with open('all_results.pk', 'rb') as f:\n",
    "    all_results = pickle.load(f)"
   ]
  },
  {
   "cell_type": "code",
   "execution_count": 161,
   "metadata": {},
   "outputs": [
    {
     "data": {
      "image/png": "[encoded data removed]",
      "text/plain": [
       "<Figure size 432x432 with 1 Axes>"
      ]
     },
     "metadata": {
      "needs_background": "light"
     },
     "output_type": "display_data"
    }
   ],
   "source": [
    "alphas = sorted(list(all_results.keys()))\n",
    "incorrect_frac = [np.mean([-np.mean(rewards) for _, rewards, _ in all_results[alpha]]) for alpha in alphas]\n",
    "incorrect_frac_std = [np.std([-np.mean(rewards) for _, rewards, _ in all_results[alpha]]) for alpha in alphas]\n",
    "plt.figure(figsize=(6, 6))\n",
    "plt.errorbar(alphas, incorrect_frac, yerr=[2*std for std in incorrect_frac_std], markersize=4, capsize=5)\n",
    "plt.title('Average Fraction of Incorrect doses per alpha')\n",
    "plt.xlabel('alpha')\n",
    "plt.ylabel('Average Fraction of Incorrect doses')\n",
    "plt.xticks(alphas, rotation=90)\n",
    "plt.savefig('plots/Avg_frac_incorrect_alpha.png')"
   ]
  },
  {
   "cell_type": "code",
   "execution_count": 163,
   "metadata": {},
   "outputs": [
    {
     "data": {
      "image/png": "[encoded data removed]",
      "text/plain": [
       "<Figure size 432x432 with 1 Axes>"
      ]
     },
     "metadata": {
      "needs_background": "light"
     },
     "output_type": "display_data"
    }
   ],
   "source": [
    "alphas = sorted(list(all_results.keys()))\n",
    "regrets = [np.mean([np.sum(regrets) for _, _, regrets in all_results[alpha]]) for alpha in alphas]\n",
    "regrets_std = [np.std([np.sum(regrets) for _, _, regrets in all_results[alpha]]) for alpha in alphas]\n",
    "plt.figure(figsize=(6, 6))\n",
    "plt.errorbar(alphas, regrets, yerr=[2*std for std in regrets_std], markersize=4, capsize=5)\n",
    "plt.title('Average Total Regret per alpha')\n",
    "plt.xlabel('alpha')\n",
    "plt.ylabel('Average Total Regret')\n",
    "plt.xticks(alphas, rotation=90)\n",
    "plt.savefig('plots/avg_tot_regret_alpha.png')"
   ]
  },
  {
   "cell_type": "code",
   "execution_count": 205,
   "metadata": {},
   "outputs": [
    {
     "data": {
      "image/png": "[encoded data removed]",
      "text/plain": [
       "<Figure size 432x432 with 1 Axes>"
      ]
     },
     "metadata": {
      "needs_background": "light"
     },
     "output_type": "display_data"
    }
   ],
   "source": [
    "alphas = sorted(list(all_results.keys()))[0:6]\n",
    "plt.figure(figsize=(6, 6))\n",
    "for alpha in alphas:\n",
    "    alpha_rewards = np.vstack([rewards for _, rewards, _ in all_results[alpha]])\n",
    "    alpha_fracs = (-np.cumsum(alpha_rewards, 1) / np.arange(1, df.shape[0] + 1))\n",
    "    alpha_means = np.mean(alpha_fracs, 0)\n",
    "    alpha_stds = np.std(alpha_fracs, 0)\n",
    "    plt.plot(range(df.shape[0]), alpha_means)\n",
    "plt.legend(alphas)\n",
    "plt.xlabel('Number of patients seen')\n",
    "plt.ylabel('Average fraction of incorrect cases')\n",
    "plt.title('Average fraction of incorrect cases vs patients seen')\n",
    "plt.savefig('plots/avg_frac_alphas.png')"
   ]
  },
  {
   "cell_type": "code",
   "execution_count": 191,
   "metadata": {},
   "outputs": [
    {
     "data": {
      "text/plain": [
       "array([1.53762663e-04, 2.44211288e-04, 3.70839363e-04, ...,\n",
       "       4.22928726e-01, 4.22982996e-01, 4.23082489e-01])"
      ]
     },
     "execution_count": 191,
     "metadata": {},
     "output_type": "execute_result"
    }
   ],
   "source": [
    "alpha_means"
   ]
  },
  {
   "cell_type": "code",
   "execution_count": 89,
   "metadata": {
    "scrolled": true
   },
   "outputs": [
    {
     "data": {
      "text/plain": [
       "0.6119367076702041"
      ]
     },
     "execution_count": 89,
     "metadata": {},
     "output_type": "execute_result"
    }
   ],
   "source": [
    "alphas[2]"
   ]
  },
  {
   "cell_type": "code",
   "execution_count": 90,
   "metadata": {},
   "outputs": [
    {
     "data": {
      "text/plain": [
       "51.44991674527547"
      ]
     },
     "execution_count": 90,
     "metadata": {},
     "output_type": "execute_result"
    }
   ],
   "source": [
    "regrets[2]"
   ]
  },
  {
   "cell_type": "code",
   "execution_count": 88,
   "metadata": {},
   "outputs": [
    {
     "data": {
      "text/plain": [
       "0.3691570188133141"
      ]
     },
     "execution_count": 88,
     "metadata": {},
     "output_type": "execute_result"
    }
   ],
   "source": [
    "incorrect_frac[2]"
   ]
  },
  {
   "cell_type": "markdown",
   "metadata": {},
   "source": [
    "## Plotting t-distribution \n",
    "\n"
   ]
  },
  {
   "cell_type": "code",
   "execution_count": 92,
   "metadata": {},
   "outputs": [
    {
     "name": "stdout",
     "output_type": "stream",
     "text": [
      "running experiment for 0.6119367076702041 iteration 0\n",
      "running experiment for 0.6119367076702041 iteration 1\n",
      "running experiment for 0.6119367076702041 iteration 2\n",
      "running experiment for 0.6119367076702041 iteration 3\n",
      "running experiment for 0.6119367076702041 iteration 4\n",
      "running experiment for 0.6119367076702041 iteration 5\n",
      "running experiment for 0.6119367076702041 iteration 6\n",
      "running experiment for 0.6119367076702041 iteration 7\n",
      "running experiment for 0.6119367076702041 iteration 8\n",
      "running experiment for 0.6119367076702041 iteration 9\n",
      "running experiment for 0.6119367076702041 iteration 10\n",
      "running experiment for 0.6119367076702041 iteration 11\n",
      "running experiment for 0.6119367076702041 iteration 12\n",
      "running experiment for 0.6119367076702041 iteration 13\n",
      "running experiment for 0.6119367076702041 iteration 14\n",
      "running experiment for 0.6119367076702041 iteration 15\n",
      "running experiment for 0.6119367076702041 iteration 16\n",
      "running experiment for 0.6119367076702041 iteration 17\n",
      "running experiment for 0.6119367076702041 iteration 18\n",
      "running experiment for 0.6119367076702041 iteration 19\n"
     ]
    }
   ],
   "source": [
    "import scipy.stats as st\n",
    "results = []\n",
    "alpha = 0.6119367076702041\n",
    "for i in range(20):\n",
    "    print(f'running experiment for {alpha} iteration {i}')\n",
    "    policy = LinUCBDisjoint(alpha, feature_names, ['low', 'medium', 'high'], d)\n",
    "    results += [simulate(df, policy, bar=False)]"
   ]
  },
  {
   "cell_type": "code",
   "execution_count": 156,
   "metadata": {},
   "outputs": [
    {
     "data": {
      "image/png": "[encoded data removed]",
      "text/plain": [
       "<Figure size 432x432 with 1 Axes>"
      ]
     },
     "metadata": {
      "needs_background": "light"
     },
     "output_type": "display_data"
    }
   ],
   "source": [
    "reward_means = np.array([-np.mean(rewards) for actions, rewards, regrets in results])\n",
    "reward_t_interval = np.array([st.t.std(len(rewards) - 1, loc=np.mean(rewards), scale=st.sem(rewards)) \\\n",
    "                      for actions, rewards, regrets in results])\n",
    "plt.figure(figsize=(6, 6))\n",
    "plt.errorbar(range(len(reward_means)), reward_means, yerr=reward_t_interval * 2, fmt='o', capsize=5)\n",
    "plt.title('Fraction of incorrect dosage per round')\n",
    "plt.xlabel('Trials')\n",
    "plt.ylabel('Fraction of incorrect dosage')\n",
    "plt.xticks(range(20))\n",
    "plt.savefig('plots/frac_incorrect_dosage_t.png')"
   ]
  },
  {
   "cell_type": "code",
   "execution_count": 155,
   "metadata": {},
   "outputs": [
    {
     "data": {
      "image/png": "[encoded data removed]",
      "text/plain": [
       "<Figure size 432x432 with 1 Axes>"
      ]
     },
     "metadata": {
      "needs_background": "light"
     },
     "output_type": "display_data"
    }
   ],
   "source": [
    "regret_means = np.array([np.mean(regrets) for actions, rewards, regrets in results])\n",
    "regret_t_interval = np.array([st.t.std(len(regrets) - 1, loc=np.mean(regrets), scale=st.sem(regrets)) \\\n",
    "                      for actions, rewards, regrets in results])\n",
    "plt.figure(figsize=(6, 6))\n",
    "plt.errorbar(range(len(regret_means)), regret_means, yerr=regret_t_interval * 2, fmt='o', capsize=5)\n",
    "plt.title('Average Regret per Patient')\n",
    "plt.xticks(range(20))\n",
    "plt.xlabel('Trials')\n",
    "plt.ylabel('Average Regret per Patient')\n",
    "plt.savefig('plots/avg_regret_per_t.png')"
   ]
  },
  {
   "cell_type": "markdown",
   "metadata": {},
   "source": [
    "## Supervised\n",
    "\n",
    "A supervised approach allows us to have an emparical upper bound on the performance of reinforcement learning algorithms"
   ]
  },
  {
   "cell_type": "markdown",
   "metadata": {},
   "source": [
    "### Theoretical limit of SVM\n",
    "\n",
    "Here we would like to know what is the optimal possible value for the SVM and logistic regression"
   ]
  },
  {
   "cell_type": "code",
   "execution_count": 24,
   "metadata": {},
   "outputs": [],
   "source": [
    "y = y_low * 0 + (1 + y_medium) * 1 + (1 + y_high) * 2"
   ]
  },
  {
   "cell_type": "code",
   "execution_count": 164,
   "metadata": {},
   "outputs": [
    {
     "name": "stdout",
     "output_type": "stream",
     "text": [
      "Logistic Regression could achieve maximum -1956 reward\n"
     ]
    }
   ],
   "source": [
    "classifier = sklearn.linear_model.LogisticRegression(n_jobs=8, max_iter=5000).fit(X, y)\n",
    "predicted_actions = classifier.predict(X)\n",
    "reward = -np.sum(predicted_actions != y)0.3538\n",
    "print(f'Logistic Regression could achieve maximum {reward} reward')"
   ]
  },
  {
   "cell_type": "code",
   "execution_count": 169,
   "metadata": {},
   "outputs": [
    {
     "data": {
      "text/plain": [
       "30.930929769165694"
      ]
     },
     "execution_count": 169,
     "metadata": {},
     "output_type": "execute_result"
    }
   ],
   "source": [
    "np.sum(batch_regret(df, np.array(['low', 'medium', 'high'])[predicted_actions], linear_low.coef_, linear_medium.coef_, linear_high.coef_))"
   ]
  },
  {
   "cell_type": "code",
   "execution_count": 170,
   "metadata": {},
   "outputs": [
    {
     "name": "stdout",
     "output_type": "stream",
     "text": [
      "SVC could achieve maximum -2146 reward\n"
     ]
    }
   ],
   "source": [
    "classifier = sklearn.svm.SVC().fit(X, y)\n",
    "predicted_actions = classifier.predict(X)\n",
    "reward = -np.sum(predicted_actions != y)\n",
    "print(f'SVC could achieve maximum {reward} reward')"
   ]
  },
  {
   "cell_type": "code",
   "execution_count": 171,
   "metadata": {},
   "outputs": [
    {
     "data": {
      "text/plain": [
       "61.53222596511969"
      ]
     },
     "execution_count": 171,
     "metadata": {},
     "output_type": "execute_result"
    }
   ],
   "source": [
    "np.sum(batch_regret(df, np.array(['low', 'medium', 'high'])[predicted_actions], linear_low.coef_, linear_medium.coef_, linear_high.coef_))"
   ]
  },
  {
   "cell_type": "code",
   "execution_count": 29,
   "metadata": {},
   "outputs": [],
   "source": [
    "from sklearn.linear_model import LogisticRegression"
   ]
  },
  {
   "cell_type": "code",
   "execution_count": 30,
   "metadata": {},
   "outputs": [],
   "source": [
    "import warnings\n",
    "from sklearn.exceptions import ConvergenceWarning\n",
    "warnings.filterwarnings('ignore', category=ConvergenceWarning)"
   ]
  },
  {
   "cell_type": "code",
   "execution_count": 31,
   "metadata": {},
   "outputs": [
    {
     "name": "stderr",
     "output_type": "stream",
     "text": [
      "100%|██████████| 5528/5528 [03:25<00:00, 26.86it/s, total_reward=-1989]\n"
     ]
    }
   ],
   "source": [
    "class Supervised(object):\n",
    "    \n",
    "    def __init__(self, batch_size, feature_names, actions):\n",
    "        self.classifier = sklearn.linear_model.LogisticRegression(n_jobs=8, max_iter=5000)\n",
    "        self.initialized = False\n",
    "        self.actions = actions\n",
    "        self.batch_size = batch_size\n",
    "        self.feature_names = feature_names\n",
    "        self.data = []\n",
    "        self.labels = []\n",
    "        \n",
    "    def featurize(self, state):\n",
    "        return np.array(encode(state, self.feature_names))\n",
    "    \n",
    "    def get_action(self, state):\n",
    "        s = self.featurize(state)\n",
    "        if self.initialized:\n",
    "            prediction = self.classifier.predict(s.reshape(1, -1))\n",
    "            return self.actions[prediction[0]]\n",
    "        else:\n",
    "            return self.actions[1]\n",
    "\n",
    "    def update_policy(self, state, action, reward, true_label):\n",
    "        s = self.featurize(state)\n",
    "        self.data += [s]\n",
    "        self.labels += [self.actions.index(true_label)]\n",
    "        if len(self.data) % self.batch_size == 0:\n",
    "            self.classifier.fit(np.vstack(self.data), self.labels)\n",
    "            self.initialized = True\n",
    "\n",
    "supervised_actions, supervised_rewards, supervised_regrets = \\\n",
    "    simulate(df, Supervised(50, feature_names, ['low', 'medium', 'high']))"
   ]
  },
  {
   "cell_type": "code",
   "execution_count": 32,
   "metadata": {},
   "outputs": [
    {
     "data": {
      "text/plain": [
       "33.49420503282495"
      ]
     },
     "execution_count": 32,
     "metadata": {},
     "output_type": "execute_result"
    }
   ],
   "source": [
    "np.sum(supervised_regrets)"
   ]
  },
  {
   "cell_type": "code",
   "execution_count": 159,
   "metadata": {},
   "outputs": [
    {
     "data": {
      "text/plain": [
       "0.35980463096960924"
      ]
     },
     "execution_count": 159,
     "metadata": {},
     "output_type": "execute_result"
    }
   ],
   "source": [
    "-np.mean(supervised_rewards)"
   ]
  },
  {
   "cell_type": "code",
   "execution_count": 175,
   "metadata": {},
   "outputs": [
    {
     "data": {
      "image/png": "[encoded data removed]",
      "text/plain": [
       "<Figure size 432x432 with 1 Axes>"
      ]
     },
     "metadata": {
      "needs_background": "light"
     },
     "output_type": "display_data"
    }
   ],
   "source": [
    "# fixed_rewards, clinical_rewards\n",
    "horizon = len(fixed_rewards)\n",
    "best_rl_rewards = max([reward for _, runs in all_results.items() for _, reward, _ in runs], key=np.mean)\n",
    "plt.figure(figsize=(6, 6))\n",
    "plt.plot(range(horizon), np.cumsum(1 + np.array(fixed_rewards)))\n",
    "plt.plot(range(horizon), np.cumsum(1 + np.array(clinical_rewards)))\n",
    "plt.plot(range(horizon), np.cumsum(1 + np.array(best_rl_rewards)))\n",
    "plt.plot(range(horizon), np.cumsum(1 + np.array(supervised_rewards)))\n",
    "plt.legend(['Fixed Dose', 'Clinical Dosing', 'Best LinUCB', 'Supervised'])\n",
    "plt.title('Cumulative Number of correct cases')\n",
    "plt.xlabel('Number of patients seen')\n",
    "plt.ylabel('Number of correct cases')\n",
    "plt.savefig('plots/comparison.png')"
   ]
  },
  {
   "cell_type": "code",
   "execution_count": 207,
   "metadata": {},
   "outputs": [
    {
     "data": {
      "text/plain": [
       "19"
      ]
     },
     "execution_count": 207,
     "metadata": {},
     "output_type": "execute_result"
    }
   ],
   "source": [
    "d = 19\n",
    "alpha = 0.6119367076702041"
   ]
  },
  {
   "cell_type": "code",
   "execution_count": 208,
   "metadata": {
    "scrolled": true
   },
   "outputs": [
    {
     "name": "stderr",
     "output_type": "stream",
     "text": [
      "100%|██████████| 5528/5528 [03:20<00:00, 27.54it/s, total_reward=-1986]\n",
      "100%|██████████| 5528/5528 [03:54<00:00, 23.62it/s, total_reward=-2008]\n",
      "100%|██████████| 5528/5528 [03:13<00:00, 28.60it/s, total_reward=-1999]\n",
      "100%|██████████| 5528/5528 [03:24<00:00, 27.01it/s, total_reward=-2003]\n",
      "100%|██████████| 5528/5528 [03:18<00:00, 27.81it/s, total_reward=-1978]\n",
      "100%|██████████| 5528/5528 [03:29<00:00, 26.41it/s, total_reward=-1979]\n",
      "100%|██████████| 5528/5528 [03:17<00:00, 28.01it/s, total_reward=-2010]\n",
      "100%|██████████| 5528/5528 [03:29<00:00, 26.38it/s, total_reward=-2017]\n",
      "100%|██████████| 5528/5528 [03:11<00:00, 28.83it/s, total_reward=-1997]\n",
      "100%|██████████| 5528/5528 [03:38<00:00, 25.35it/s, total_reward=-1999]\n",
      "100%|██████████| 5528/5528 [03:37<00:00, 25.43it/s, total_reward=-2005]\n",
      "100%|██████████| 5528/5528 [03:11<00:00, 28.82it/s, total_reward=-1987]\n",
      "100%|██████████| 5528/5528 [03:32<00:00, 26.01it/s, total_reward=-1980]\n",
      "100%|██████████| 5528/5528 [03:47<00:00, 24.28it/s, total_reward=-1977]\n",
      "100%|██████████| 5528/5528 [03:25<00:00, 26.93it/s, total_reward=-2011]\n",
      "100%|██████████| 5528/5528 [03:28<00:00, 26.55it/s, total_reward=-2022]\n",
      "100%|██████████| 5528/5528 [03:22<00:00, 27.31it/s, total_reward=-2011]\n",
      "100%|██████████| 5528/5528 [03:33<00:00, 25.93it/s, total_reward=-2002]\n",
      "100%|██████████| 5528/5528 [02:57<00:00, 31.12it/s, total_reward=-1974]\n",
      "100%|██████████| 5528/5528 [03:26<00:00, 26.71it/s, total_reward=-1994]\n",
      "100%|██████████| 5528/5528 [00:17<00:00, 314.74it/s, total_reward=-2102]\n",
      "100%|██████████| 5528/5528 [00:17<00:00, 313.82it/s, total_reward=-2032]\n",
      "100%|██████████| 5528/5528 [00:17<00:00, 317.78it/s, total_reward=-2069]\n",
      "100%|██████████| 5528/5528 [00:17<00:00, 319.91it/s, total_reward=-2049]\n",
      "100%|██████████| 5528/5528 [00:17<00:00, 317.67it/s, total_reward=-2074]\n",
      "100%|██████████| 5528/5528 [00:17<00:00, 317.93it/s, total_reward=-2075]\n",
      "100%|██████████| 5528/5528 [00:17<00:00, 318.64it/s, total_reward=-2033]\n",
      "100%|██████████| 5528/5528 [00:17<00:00, 318.16it/s, total_reward=-2048]\n",
      "100%|██████████| 5528/5528 [00:17<00:00, 317.33it/s, total_reward=-2062]\n",
      "100%|██████████| 5528/5528 [00:17<00:00, 317.95it/s, total_reward=-2074]\n",
      "100%|██████████| 5528/5528 [00:17<00:00, 319.45it/s, total_reward=-2057]\n",
      "100%|██████████| 5528/5528 [00:17<00:00, 318.71it/s, total_reward=-2094]\n",
      "100%|██████████| 5528/5528 [00:17<00:00, 319.96it/s, total_reward=-2030]\n",
      "100%|██████████| 5528/5528 [00:17<00:00, 318.97it/s, total_reward=-2044]\n",
      "100%|██████████| 5528/5528 [00:17<00:00, 320.73it/s, total_reward=-2063]\n",
      "100%|██████████| 5528/5528 [00:17<00:00, 318.54it/s, total_reward=-2054]\n",
      "100%|██████████| 5528/5528 [00:17<00:00, 317.49it/s, total_reward=-2078]\n",
      "100%|██████████| 5528/5528 [00:17<00:00, 320.07it/s, total_reward=-2089]\n",
      "100%|██████████| 5528/5528 [00:17<00:00, 319.70it/s, total_reward=-2075]\n",
      "100%|██████████| 5528/5528 [00:17<00:00, 315.92it/s, total_reward=-2063]\n",
      "100%|██████████| 5528/5528 [00:05<00:00, 951.54it/s, total_reward=-2146] \n",
      "100%|██████████| 5528/5528 [00:05<00:00, 946.11it/s, total_reward=-2146] \n",
      "100%|██████████| 5528/5528 [00:05<00:00, 946.66it/s, total_reward=-2146] \n",
      "100%|██████████| 5528/5528 [00:05<00:00, 974.29it/s, total_reward=-2146] \n",
      "100%|██████████| 5528/5528 [00:05<00:00, 967.91it/s, total_reward=-2146] \n",
      "100%|██████████| 5528/5528 [00:05<00:00, 973.60it/s, total_reward=-2146] \n",
      "100%|██████████| 5528/5528 [00:05<00:00, 976.83it/s, total_reward=-2146] \n",
      "100%|██████████| 5528/5528 [00:05<00:00, 980.52it/s, total_reward=-2146] \n",
      " 61%|██████▏   | 3388/5528 [00:03<00:02, 1030.25it/s, total_reward=-1387]IOPub message rate exceeded.\n",
      "The notebook server will temporarily stop sending output\n",
      "to the client in order to avoid crashing it.\n",
      "To change this limit, set the config variable\n",
      "`--NotebookApp.iopub_msg_rate_limit`.\n",
      "\n",
      "Current values:\n",
      "NotebookApp.iopub_msg_rate_limit=1000.0 (msgs/sec)\n",
      "NotebookApp.rate_limit_window=3.0 (secs)\n",
      "\n",
      "100%|██████████| 5528/5528 [00:05<00:00, 1001.97it/s, total_reward=-2146]\n",
      "100%|██████████| 5528/5528 [00:05<00:00, 968.80it/s, total_reward=-2146] \n",
      " 80%|███████▉  | 4407/5528 [00:04<00:01, 934.08it/s, total_reward=-1734] IOPub message rate exceeded.\n",
      "The notebook server will temporarily stop sending output\n",
      "to the client in order to avoid crashing it.\n",
      "To change this limit, set the config variable\n",
      "`--NotebookApp.iopub_msg_rate_limit`.\n",
      "\n",
      "Current values:\n",
      "NotebookApp.iopub_msg_rate_limit=1000.0 (msgs/sec)\n",
      "NotebookApp.rate_limit_window=3.0 (secs)\n",
      "\n",
      "100%|██████████| 5528/5528 [00:05<00:00, 1004.33it/s, total_reward=-2146]\n",
      "100%|██████████| 5528/5528 [00:05<00:00, 985.09it/s, total_reward=-2146] \n",
      "100%|██████████| 5528/5528 [00:05<00:00, 998.88it/s, total_reward=-2146] \n",
      "100%|██████████| 5528/5528 [00:05<00:00, 973.62it/s, total_reward=-2146] \n",
      "100%|██████████| 5528/5528 [00:05<00:00, 974.23it/s, total_reward=-2146] \n",
      "100%|██████████| 5528/5528 [00:05<00:00, 983.90it/s, total_reward=-2146] \n",
      "100%|██████████| 5528/5528 [00:05<00:00, 960.59it/s, total_reward=-2146] \n",
      "100%|██████████| 5528/5528 [00:05<00:00, 968.23it/s, total_reward=-2146] \n",
      "100%|██████████| 5528/5528 [00:05<00:00, 987.07it/s, total_reward=-2146] \n",
      " 53%|█████▎    | 2903/5528 [00:02<00:02, 884.58it/s, total_reward=-1151]IOPub message rate exceeded.\n",
      "The notebook server will temporarily stop sending output\n",
      "to the client in order to avoid crashing it.\n",
      "To change this limit, set the config variable\n",
      "`--NotebookApp.iopub_msg_rate_limit`.\n",
      "\n",
      "Current values:\n",
      "NotebookApp.iopub_msg_rate_limit=1000.0 (msgs/sec)\n",
      "NotebookApp.rate_limit_window=3.0 (secs)\n",
      "\n",
      "100%|██████████| 5528/5528 [00:05<00:00, 998.28it/s, total_reward=-2146] \n",
      "100%|██████████| 5528/5528 [00:06<00:00, 850.15it/s, total_reward=-1975]\n",
      "100%|██████████| 5528/5528 [00:06<00:00, 826.85it/s, total_reward=-1975]\n",
      "100%|██████████| 5528/5528 [00:06<00:00, 800.13it/s, total_reward=-1975]\n",
      "100%|██████████| 5528/5528 [00:06<00:00, 845.93it/s, total_reward=-1975]\n",
      "100%|██████████| 5528/5528 [00:06<00:00, 817.97it/s, total_reward=-1975]\n",
      "100%|██████████| 5528/5528 [00:06<00:00, 832.36it/s, total_reward=-1975]\n",
      "100%|██████████| 5528/5528 [00:06<00:00, 850.71it/s, total_reward=-1975]\n",
      "100%|██████████| 5528/5528 [00:06<00:00, 855.09it/s, total_reward=-1975]\n",
      "100%|██████████| 5528/5528 [00:06<00:00, 850.01it/s, total_reward=-1975]\n",
      "100%|██████████| 5528/5528 [00:06<00:00, 827.60it/s, total_reward=-1975]\n",
      "100%|██████████| 5528/5528 [00:06<00:00, 844.77it/s, total_reward=-1975]\n",
      "100%|██████████| 5528/5528 [00:06<00:00, 842.32it/s, total_reward=-1975]\n",
      "100%|██████████| 5528/5528 [00:06<00:00, 832.68it/s, total_reward=-1975]\n",
      "100%|██████████| 5528/5528 [00:06<00:00, 803.02it/s, total_reward=-1975]\n",
      "100%|██████████| 5528/5528 [00:06<00:00, 851.36it/s, total_reward=-1975]\n",
      "100%|██████████| 5528/5528 [00:06<00:00, 838.70it/s, total_reward=-1975]\n",
      "100%|██████████| 5528/5528 [00:06<00:00, 843.45it/s, total_reward=-1975]\n",
      "100%|██████████| 5528/5528 [00:06<00:00, 835.77it/s, total_reward=-1975]\n",
      "100%|██████████| 5528/5528 [00:06<00:00, 829.68it/s, total_reward=-1975]\n",
      "100%|██████████| 5528/5528 [00:06<00:00, 854.69it/s, total_reward=-1975]\n"
     ]
    }
   ],
   "source": [
    "supervised_results = [simulate(df, Supervised(50, feature_names, ['low', 'medium', 'high'])) for _ in range(20)]\n",
    "rl_results = [simulate(df, LinUCBDisjoint(alpha, feature_names, ['low', 'medium', 'high'], d)) for _ in range(20)]\n",
    "fixed_results = [simulate(df, FixedDosePolicy('medium')) for _ in range(20)]\n",
    "clinical_results = [simulate(df, ClinicalDosingAlgorithm()) for _ in range(20)]"
   ]
  },
  {
   "cell_type": "code",
   "execution_count": 215,
   "metadata": {},
   "outputs": [
    {
     "data": {
      "text/plain": [
       "0.36124276410998546"
      ]
     },
     "execution_count": 215,
     "metadata": {},
     "output_type": "execute_result"
    }
   ],
   "source": [
    "np.mean([-np.mean(rewards) for actions, rewards, regrets in supervised_results])"
   ]
  },
  {
   "cell_type": "code",
   "execution_count": 209,
   "metadata": {},
   "outputs": [
    {
     "data": {
      "image/png": "[encoded data removed]",
      "text/plain": [
       "<Figure size 432x432 with 1 Axes>"
      ]
     },
     "metadata": {
      "needs_background": "light"
     },
     "output_type": "display_data"
    }
   ],
   "source": [
    "plt.figure(figsize=(6, 6))\n",
    "for result in [supervised_results, rl_results, fixed_results, clinical_results]:\n",
    "    rewards = np.vstack([rewards for _, rewards, _ in result])\n",
    "    fracs = (-np.cumsum(rewards, 1) / np.arange(1, df.shape[0] + 1))\n",
    "    means = np.mean(fracs, 0)\n",
    "#     stds = np.std(means, 0)\n",
    "    plt.plot(range(df.shape[0]), means)\n",
    "plt.legend(['Supervised', 'LinUCB', 'Fixed Dosage', 'Clinical Dosage'])\n",
    "plt.xlabel('Number of patients seen')\n",
    "plt.ylabel('Average fraction of incorrect cases')\n",
    "plt.title('Average fraction of incorrect cases vs patients seen for Each algorithm')\n",
    "plt.savefig('plots/avg_frac_algos.png')"
   ]
  },
  {
   "cell_type": "code",
   "execution_count": null,
   "metadata": {},
   "outputs": [],
   "source": []
  },
  {
   "cell_type": "code",
   "execution_count": 176,
   "metadata": {},
   "outputs": [
    {
     "data": {
      "image/png": "[encoded data removed]",
      "text/plain": [
       "<Figure size 432x432 with 1 Axes>"
      ]
     },
     "metadata": {
      "needs_background": "light"
     },
     "output_type": "display_data"
    }
   ],
   "source": [
    "# fixed_rewards, clinical_rewards\n",
    "horizon = len(fixed_rewards)\n",
    "best_rl_rewards = max([reward for _, runs in all_results.items() for _, reward, _ in runs], key=np.mean)\n",
    "plt.figure(figsize=(6, 6))\n",
    "plt.plot(range(horizon), np.cumsum(1 + np.array(fixed_rewards)) / np.arange(1, 1+len(fixed_rewards)))\n",
    "plt.plot(range(horizon), np.cumsum(1 + np.array(clinical_rewards))/ np.arange(1, 1+len(fixed_rewards)))\n",
    "plt.plot(range(horizon), np.cumsum(1 + np.array(best_rl_rewards))/ np.arange(1, 1+len(fixed_rewards)))\n",
    "plt.plot(range(horizon), np.cumsum(1 + np.array(supervised_rewards))/ np.arange(1, 1+len(fixed_rewards)))\n",
    "plt.legend(['Fixed Dose', 'Clinical Dosing', 'Best LinUCB', 'Supervised'])\n",
    "plt.title('Fraction of correct cases')\n",
    "plt.xlabel('Number of patients seen')\n",
    "plt.ylabel('Fraction of correct cases')\n",
    "plt.savefig('plots/comparison_frac.png')"
   ]
  },
  {
   "cell_type": "code",
   "execution_count": null,
   "metadata": {},
   "outputs": [],
   "source": [
    "# fixed_rewards, clinical_rewards\n",
    "horizon = len(fixed_rewards)\n",
    "best_rl_rewards = max([reward for _, runs in all_results.items() for _, reward, _ in runs], key=np.mean)\n",
    "plt.figure(figsize=(6, 6))\n",
    "plt.plot(range(horizon), np.cumsum(1 + np.array(fixed_rewards)) / np.arange(1, 1+len(fixed_rewards)))\n",
    "plt.plot(range(horizon), np.cumsum(1 + np.array(clinical_rewards))/ np.arange(1, 1+len(fixed_rewards)))\n",
    "plt.plot(range(horizon), np.cumsum(1 + np.array(best_rl_rewards))/ np.arange(1, 1+len(fixed_rewards)))\n",
    "plt.plot(range(horizon), np.cumsum(1 + np.array(supervised_rewards))/ np.arange(1, 1+len(fixed_rewards)))\n",
    "plt.legend(['Fixed Dose', 'Clinical Dosing', 'Best LinUCB', 'Supervised'])\n",
    "plt.title('Fraction of correct cases')\n",
    "plt.xlabel('Number of patients seen')\n",
    "plt.ylabel('Fraction of correct cases')\n",
    "plt.savefig('plots/comparison_frac.png')"
   ]
  }
 ],
 "metadata": {
  "kernelspec": {
   "display_name": "Python 3",
   "language": "python",
   "name": "python3"
  },
  "language_info": {
   "codemirror_mode": {
    "name": "ipython",
    "version": 3
   },
   "file_extension": ".py",
   "mimetype": "text/x-python",
   "name": "python",
   "nbconvert_exporter": "python",
   "pygments_lexer": "ipython3",
   "version": "3.6.10"
  }
 },
 "nbformat": 4,
 "nbformat_minor": 4
}
